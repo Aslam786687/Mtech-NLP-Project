{
 "cells": [
  {
   "cell_type": "markdown",
   "metadata": {
    "id": "rKqe-5Lpwj7E"
   },
   "source": [
    "### NLP model for Sarcasm Detection"
   ]
  },
  {
   "cell_type": "markdown",
   "metadata": {
    "id": "SgZQ20psaJJX"
   },
   "source": [
    "**Problem Statement**<br/>\n",
    "Develop an NLP classification model for sarcasm detection using the features provided in the\n",
    "dataset. During the course, explore NLP concepts and models. Further, evaluate and finalize\n",
    "the best modeling approach for the given dataset.\n"
   ]
  },
  {
   "cell_type": "code",
   "execution_count": 1,
   "metadata": {
    "id": "evvJtcnyaeO_"
   },
   "outputs": [],
   "source": [
    "# from google.colab import drive\n",
    "# drive.mount('/gdrive')"
   ]
  },
  {
   "cell_type": "code",
   "execution_count": 2,
   "metadata": {
    "id": "o84tU4KBruJK"
   },
   "outputs": [],
   "source": [
    "import pandas as pd\n",
    "import numpy as np"
   ]
  },
  {
   "cell_type": "code",
   "execution_count": 3,
   "metadata": {
    "id": "WcQh6U1-aeOh"
   },
   "outputs": [
    {
     "data": {
      "text/html": [
       "<div>\n",
       "<style scoped>\n",
       "    .dataframe tbody tr th:only-of-type {\n",
       "        vertical-align: middle;\n",
       "    }\n",
       "\n",
       "    .dataframe tbody tr th {\n",
       "        vertical-align: top;\n",
       "    }\n",
       "\n",
       "    .dataframe thead th {\n",
       "        text-align: right;\n",
       "    }\n",
       "</style>\n",
       "<table border=\"1\" class=\"dataframe\">\n",
       "  <thead>\n",
       "    <tr style=\"text-align: right;\">\n",
       "      <th></th>\n",
       "      <th>ID</th>\n",
       "      <th>comment</th>\n",
       "      <th>date</th>\n",
       "      <th>down</th>\n",
       "      <th>parent_comment</th>\n",
       "      <th>score</th>\n",
       "      <th>top</th>\n",
       "      <th>topic</th>\n",
       "      <th>user</th>\n",
       "      <th>label</th>\n",
       "    </tr>\n",
       "  </thead>\n",
       "  <tbody>\n",
       "    <tr>\n",
       "      <th>0</th>\n",
       "      <td>uid_590555</td>\n",
       "      <td>Well, let's be honest here, they don't actuall...</td>\n",
       "      <td>2015-04</td>\n",
       "      <td>0</td>\n",
       "      <td>They should shut the fuck up and let the commu...</td>\n",
       "      <td>2</td>\n",
       "      <td>2</td>\n",
       "      <td>starcitizen</td>\n",
       "      <td>Combat_Wombatz</td>\n",
       "      <td>0</td>\n",
       "    </tr>\n",
       "    <tr>\n",
       "      <th>1</th>\n",
       "      <td>uid_671762</td>\n",
       "      <td>Well, I didn't need evidence to believe in com...</td>\n",
       "      <td>2016-12</td>\n",
       "      <td>-1</td>\n",
       "      <td>You need evidence to kill people? I thought we...</td>\n",
       "      <td>6</td>\n",
       "      <td>-1</td>\n",
       "      <td>EnoughCommieSpam</td>\n",
       "      <td>starkadd</td>\n",
       "      <td>1</td>\n",
       "    </tr>\n",
       "    <tr>\n",
       "      <th>2</th>\n",
       "      <td>uid_519689</td>\n",
       "      <td>Who does an \"official promo\" in 360p?</td>\n",
       "      <td>2013-11</td>\n",
       "      <td>0</td>\n",
       "      <td>2014 BMW S1000R: Official Promo</td>\n",
       "      <td>3</td>\n",
       "      <td>3</td>\n",
       "      <td>motorcycles</td>\n",
       "      <td>phybere</td>\n",
       "      <td>0</td>\n",
       "    </tr>\n",
       "    <tr>\n",
       "      <th>3</th>\n",
       "      <td>uid_788362</td>\n",
       "      <td>Grotto koth was the best</td>\n",
       "      <td>2015-09</td>\n",
       "      <td>0</td>\n",
       "      <td>Not really that memorable lol if you want memo...</td>\n",
       "      <td>2</td>\n",
       "      <td>2</td>\n",
       "      <td>hcfactions</td>\n",
       "      <td>m0xyMC</td>\n",
       "      <td>1</td>\n",
       "    </tr>\n",
       "    <tr>\n",
       "      <th>4</th>\n",
       "      <td>uid_299252</td>\n",
       "      <td>Neal's back baby</td>\n",
       "      <td>2015-11</td>\n",
       "      <td>0</td>\n",
       "      <td>James Neal hit on Zach Parise</td>\n",
       "      <td>-5</td>\n",
       "      <td>-5</td>\n",
       "      <td>hockey</td>\n",
       "      <td>Somuch101</td>\n",
       "      <td>1</td>\n",
       "    </tr>\n",
       "  </tbody>\n",
       "</table>\n",
       "</div>"
      ],
      "text/plain": [
       "           ID                                            comment     date  \\\n",
       "0  uid_590555  Well, let's be honest here, they don't actuall...  2015-04   \n",
       "1  uid_671762  Well, I didn't need evidence to believe in com...  2016-12   \n",
       "2  uid_519689              Who does an \"official promo\" in 360p?  2013-11   \n",
       "3  uid_788362                           Grotto koth was the best  2015-09   \n",
       "4  uid_299252                                   Neal's back baby  2015-11   \n",
       "\n",
       "   down                                     parent_comment  score  top  \\\n",
       "0     0  They should shut the fuck up and let the commu...      2    2   \n",
       "1    -1  You need evidence to kill people? I thought we...      6   -1   \n",
       "2     0                    2014 BMW S1000R: Official Promo      3    3   \n",
       "3     0  Not really that memorable lol if you want memo...      2    2   \n",
       "4     0                      James Neal hit on Zach Parise     -5   -5   \n",
       "\n",
       "              topic            user  label  \n",
       "0       starcitizen  Combat_Wombatz      0  \n",
       "1  EnoughCommieSpam        starkadd      1  \n",
       "2       motorcycles         phybere      0  \n",
       "3        hcfactions          m0xyMC      1  \n",
       "4            hockey       Somuch101      1  "
      ]
     },
     "execution_count": 3,
     "metadata": {},
     "output_type": "execute_result"
    }
   ],
   "source": [
    "# read file into pandas using a relative path. Please change the path as needed\n",
    "st_df = pd.read_csv('NLPMiniProject_data.csv')\n",
    "st_df.head()"
   ]
  },
  {
   "cell_type": "code",
   "execution_count": 4,
   "metadata": {
    "id": "ZOgLs2FvbRx-"
   },
   "outputs": [
    {
     "data": {
      "text/plain": [
       "(15000, 10)"
      ]
     },
     "execution_count": 4,
     "metadata": {},
     "output_type": "execute_result"
    }
   ],
   "source": [
    "#Total number of Comments\n",
    "st_df.shape"
   ]
  },
  {
   "cell_type": "code",
   "execution_count": 5,
   "metadata": {
    "id": "qDN-bzy9aBAz"
   },
   "outputs": [
    {
     "data": {
      "text/html": [
       "<div>\n",
       "<style scoped>\n",
       "    .dataframe tbody tr th:only-of-type {\n",
       "        vertical-align: middle;\n",
       "    }\n",
       "\n",
       "    .dataframe tbody tr th {\n",
       "        vertical-align: top;\n",
       "    }\n",
       "\n",
       "    .dataframe thead th {\n",
       "        text-align: right;\n",
       "    }\n",
       "</style>\n",
       "<table border=\"1\" class=\"dataframe\">\n",
       "  <thead>\n",
       "    <tr style=\"text-align: right;\">\n",
       "      <th></th>\n",
       "      <th>comment</th>\n",
       "      <th>parent_comment</th>\n",
       "    </tr>\n",
       "    <tr>\n",
       "      <th>label</th>\n",
       "      <th></th>\n",
       "      <th></th>\n",
       "    </tr>\n",
       "  </thead>\n",
       "  <tbody>\n",
       "    <tr>\n",
       "      <th>0</th>\n",
       "      <td>7473</td>\n",
       "      <td>7473</td>\n",
       "    </tr>\n",
       "    <tr>\n",
       "      <th>1</th>\n",
       "      <td>7527</td>\n",
       "      <td>7527</td>\n",
       "    </tr>\n",
       "  </tbody>\n",
       "</table>\n",
       "</div>"
      ],
      "text/plain": [
       "       comment  parent_comment\n",
       "label                         \n",
       "0         7473            7473\n",
       "1         7527            7527"
      ]
     },
     "execution_count": 5,
     "metadata": {},
     "output_type": "execute_result"
    }
   ],
   "source": [
    "st_df[['comment', 'parent_comment', 'label']].groupby('label').count()"
   ]
  },
  {
   "cell_type": "code",
   "execution_count": 6,
   "metadata": {
    "id": "PGm3aYgGt7a9"
   },
   "outputs": [
    {
     "data": {
      "text/plain": [
       "1    7527\n",
       "0    7473\n",
       "Name: label, dtype: int64"
      ]
     },
     "execution_count": 6,
     "metadata": {},
     "output_type": "execute_result"
    }
   ],
   "source": [
    "st_df.label.value_counts()"
   ]
  },
  {
   "cell_type": "code",
   "execution_count": 7,
   "metadata": {
    "id": "MvIX0dRgbbzp"
   },
   "outputs": [
    {
     "name": "stdout",
     "output_type": "stream",
     "text": [
      "0 : Holy shit that dude's legs were enormous.\n"
     ]
    }
   ],
   "source": [
    "#Check out comment which is legitimate \n",
    "msg_num = np.random.randint(0, st_df.shape[0])\n",
    "print(st_df.loc[msg_num, 'label'], ':', st_df.loc[msg_num, 'comment'])"
   ]
  },
  {
   "cell_type": "code",
   "execution_count": 8,
   "metadata": {
    "id": "A705u9O1uor6"
   },
   "outputs": [
    {
     "data": {
      "text/plain": [
       "0"
      ]
     },
     "execution_count": 8,
     "metadata": {},
     "output_type": "execute_result"
    }
   ],
   "source": [
    "#Checkout missing values\n",
    "st_df.isnull().sum().sum()"
   ]
  },
  {
   "cell_type": "markdown",
   "metadata": {
    "id": "c2h-db6Zw00i"
   },
   "source": [
    "### 2. Create Training & Test Dataset"
   ]
  },
  {
   "cell_type": "code",
   "execution_count": 9,
   "metadata": {
    "id": "v-wdhCspw4lE"
   },
   "outputs": [],
   "source": [
    "from sklearn.model_selection import train_test_split"
   ]
  },
  {
   "cell_type": "code",
   "execution_count": 10,
   "metadata": {},
   "outputs": [],
   "source": [
    "X= st_df.comment\n",
    "y = st_df.label"
   ]
  },
  {
   "cell_type": "code",
   "execution_count": 11,
   "metadata": {
    "id": "4mY8_xP6w9DW"
   },
   "outputs": [],
   "source": [
    "# split X and y into training and testing sets\n",
    "X_train, X_test, y_train, y_test = train_test_split(X, y , test_size=0.3,  random_state=10)"
   ]
  },
  {
   "cell_type": "code",
   "execution_count": 12,
   "metadata": {
    "id": "F2Um35GQ3OhN"
   },
   "outputs": [],
   "source": [
    "X_train.reset_index(inplace=True, drop=True)\n",
    "X_test.reset_index(inplace=True, drop=True)\n",
    "y_train.reset_index(inplace=True, drop=True)\n",
    "y_test.reset_index(inplace=True, drop=True)"
   ]
  },
  {
   "cell_type": "code",
   "execution_count": 13,
   "metadata": {
    "id": "axydR7nwxd5c"
   },
   "outputs": [
    {
     "name": "stdout",
     "output_type": "stream",
     "text": [
      "(10500,) (4500,) (10500,) (4500,)\n",
      "\n"
     ]
    }
   ],
   "source": [
    "#Traing and Test datashape\n",
    "print(X_train.shape, X_test.shape, y_train.shape, y_test.shape)\n",
    "print()"
   ]
  },
  {
   "cell_type": "markdown",
   "metadata": {
    "id": "pERZB-yYcMnQ"
   },
   "source": [
    "### 3. Tokenization & Vectorization"
   ]
  },
  {
   "cell_type": "markdown",
   "metadata": {
    "id": "HG5KU5JVwj7k"
   },
   "source": [
    "Using **CountVectorizer**, to get numeric features."
   ]
  },
  {
   "cell_type": "code",
   "execution_count": 14,
   "metadata": {
    "id": "o-EAh3Lict_N"
   },
   "outputs": [],
   "source": [
    "# import and instantiate CountVectorizer (with the default parameters)\n",
    "from sklearn.feature_extraction.text import CountVectorizer\n",
    "cvect = CountVectorizer()"
   ]
  },
  {
   "cell_type": "code",
   "execution_count": 15,
   "metadata": {
    "id": "wOIKxD1pdEg3"
   },
   "outputs": [
    {
     "data": {
      "text/plain": [
       "CountVectorizer()"
      ]
     },
     "execution_count": 15,
     "metadata": {},
     "output_type": "execute_result"
    }
   ],
   "source": [
    "#Feed Comments data to CountVectorizer\n",
    "cvect.fit(X_train)"
   ]
  },
  {
   "cell_type": "code",
   "execution_count": 16,
   "metadata": {
    "id": "CF-9vF0ZxQO6"
   },
   "outputs": [
    {
     "data": {
      "text/plain": [
       "14149"
      ]
     },
     "execution_count": 16,
     "metadata": {},
     "output_type": "execute_result"
    }
   ],
   "source": [
    "#Check the vocablury size\n",
    "len(cvect.vocabulary_)"
   ]
  },
  {
   "cell_type": "code",
   "execution_count": 17,
   "metadata": {
    "id": "H4t9gegJd74n"
   },
   "outputs": [],
   "source": [
    "#What is there in the vocabulary\n",
    "# cvect.vocabulary_"
   ]
  },
  {
   "cell_type": "code",
   "execution_count": 18,
   "metadata": {
    "id": "9HcJcr59weGX"
   },
   "outputs": [],
   "source": [
    "# cvect.get_feature_names()"
   ]
  },
  {
   "cell_type": "markdown",
   "metadata": {
    "id": "UK1zjGfHuP4U"
   },
   "source": [
    "Build Document-term Matrix (DTM)"
   ]
  },
  {
   "cell_type": "code",
   "execution_count": 19,
   "metadata": {
    "id": "DrsvbF1XdefF"
   },
   "outputs": [],
   "source": [
    "#Convert Training comments into Count Vectors\n",
    "X_train_ct = cvect.transform(X_train)"
   ]
  },
  {
   "cell_type": "code",
   "execution_count": 20,
   "metadata": {
    "id": "7qDPMLuFduAx"
   },
   "outputs": [
    {
     "data": {
      "text/plain": [
       "(10500, 14149)"
      ]
     },
     "execution_count": 20,
     "metadata": {},
     "output_type": "execute_result"
    }
   ],
   "source": [
    "#Size of Document Term Matrix\n",
    "X_train_ct.shape"
   ]
  },
  {
   "cell_type": "code",
   "execution_count": 21,
   "metadata": {
    "id": "8vDpvDjPxi7c"
   },
   "outputs": [
    {
     "data": {
      "text/plain": [
       "'There is no Russian bias.'"
      ]
     },
     "execution_count": 21,
     "metadata": {},
     "output_type": "execute_result"
    }
   ],
   "source": [
    "X_train[0]"
   ]
  },
  {
   "cell_type": "code",
   "execution_count": 22,
   "metadata": {
    "id": "FR2qtdrMeXkL"
   },
   "outputs": [
    {
     "data": {
      "text/plain": [
       "<1x14149 sparse matrix of type '<class 'numpy.int64'>'\n",
       "\twith 5 stored elements in Compressed Sparse Row format>"
      ]
     },
     "execution_count": 22,
     "metadata": {},
     "output_type": "execute_result"
    }
   ],
   "source": [
    "#Let's check the first record\n",
    "X_train_ct[0]"
   ]
  },
  {
   "cell_type": "code",
   "execution_count": 23,
   "metadata": {
    "id": "YaTnzUIMeoMt"
   },
   "outputs": [
    {
     "name": "stdout",
     "output_type": "stream",
     "text": [
      "  (0, 1504)\t1\n",
      "  (0, 6640)\t1\n",
      "  (0, 8577)\t1\n",
      "  (0, 10888)\t1\n",
      "  (0, 12646)\t1\n"
     ]
    }
   ],
   "source": [
    "#What's there in sparse matrix\n",
    "print(X_train_ct[0:1])"
   ]
  },
  {
   "cell_type": "markdown",
   "metadata": {
    "id": "9zo2EwHYzAUr"
   },
   "source": [
    "Convert Test Comments also in numerical features"
   ]
  },
  {
   "cell_type": "code",
   "execution_count": 24,
   "metadata": {
    "id": "HX8ht6-tzDuu"
   },
   "outputs": [],
   "source": [
    "X_test_ct = cvect.transform(X_test)"
   ]
  },
  {
   "cell_type": "code",
   "execution_count": 25,
   "metadata": {
    "id": "zWjwfp9AzKL_"
   },
   "outputs": [
    {
     "data": {
      "text/plain": [
       "(4500, 14149)"
      ]
     },
     "execution_count": 25,
     "metadata": {},
     "output_type": "execute_result"
    }
   ],
   "source": [
    "X_test_ct.shape"
   ]
  },
  {
   "cell_type": "markdown",
   "metadata": {},
   "source": [
    "#### Classification report Generation "
   ]
  },
  {
   "cell_type": "code",
   "execution_count": 26,
   "metadata": {},
   "outputs": [],
   "source": [
    "def classification_report_csv(report, model_name):\n",
    "    report_data = []\n",
    "    \n",
    "    lines = report.split('\\n')\n",
    "    # print(lines)\n",
    "    for line in lines[2:]:\n",
    "        row = {}\n",
    "        row_data = line.split('      ')\n",
    "        # print(row_data, len(row_data))\n",
    "        if len(row_data) == 1:\n",
    "            # print('LEN', len(row_data))\n",
    "            continue\n",
    "        \n",
    "        if '    accuracy' in row_data:\n",
    "            # print('accuracy---', row_data[4].split('     ')[0])\n",
    "            row['Model'] = model_name\n",
    "            row['accuracy'] = row_data[4].split('     ')[0]\n",
    "            row['class'] = ''\n",
    "            row['precision'] = ''\n",
    "            row['recall'] = ''\n",
    "            row['f1_score'] = ''\n",
    "            row['support'] = ''\n",
    "            report_data.insert(0, row)\n",
    "            continue\n",
    "            \n",
    "        if '   macro avg' in row_data or 'weighted avg' in row_data:\n",
    "            row['Model'] = ''\n",
    "            row['accuracy'] = ''\n",
    "            row['class'] = row_data[0]\n",
    "            row['precision'] = row_data[1]\n",
    "            row['recall'] = (row_data[2])\n",
    "            # print(row_data[3].split('     '))\n",
    "            if '     ' in row_data[3]:\n",
    "                inner_row = row_data[3].split('     ')      \n",
    "                row['f1_score'] = inner_row[0]\n",
    "                row['support'] = inner_row[1]\n",
    "            else:\n",
    "                row['f1_score'] = (row_data[3])\n",
    "                row['support'] = (row_data[4])\n",
    "                \n",
    "            report_data.append(row)\n",
    "            continue\n",
    "        row['Model'] = ''\n",
    "        row['accuracy'] = ''\n",
    "        row['class'] = row_data[1]\n",
    "        row['precision'] = row_data[2]\n",
    "        row['recall'] = (row_data[3])\n",
    "        row['f1_score'] = (row_data[4])\n",
    "        row['support'] = (row_data[5])\n",
    "        report_data.append(row)\n",
    "        \n",
    "    dataframe = pd.DataFrame.from_dict(report_data)\n",
    "    # print(dataframe.head())\n",
    "    return dataframe\n",
    "    # dataframe.to_csv('classification_report.csv', index = False)"
   ]
  },
  {
   "cell_type": "markdown",
   "metadata": {
    "id": "8_WO6pSdvE3o"
   },
   "source": [
    "### 4. Building an Comments Classifier"
   ]
  },
  {
   "cell_type": "markdown",
   "metadata": {
    "id": "HEYiNTZPx_UJ"
   },
   "source": [
    "Let's first try K-Nearest Neigbour algorithm"
   ]
  },
  {
   "cell_type": "code",
   "execution_count": 27,
   "metadata": {
    "id": "f4ysA2I8wj7l"
   },
   "outputs": [],
   "source": [
    "from sklearn.neighbors import KNeighborsClassifier"
   ]
  },
  {
   "cell_type": "code",
   "execution_count": 28,
   "metadata": {
    "id": "41v1PorCyHHj"
   },
   "outputs": [
    {
     "data": {
      "text/plain": [
       "KNeighborsClassifier()"
      ]
     },
     "execution_count": 28,
     "metadata": {},
     "output_type": "execute_result"
    }
   ],
   "source": [
    "# instantiate the model (with the default parameters)\n",
    "knn = KNeighborsClassifier()\n",
    "\n",
    "# fit the model with data (occurs in-place)\n",
    "knn.fit(X_train_ct, y_train)"
   ]
  },
  {
   "cell_type": "markdown",
   "metadata": {
    "id": "lzexfE7Wwj7p"
   },
   "source": [
    "Evaluation on Test Dataset"
   ]
  },
  {
   "cell_type": "code",
   "execution_count": 29,
   "metadata": {
    "id": "uQOrAY7gy2Gp"
   },
   "outputs": [],
   "source": [
    "from sklearn import metrics"
   ]
  },
  {
   "cell_type": "code",
   "execution_count": 30,
   "metadata": {},
   "outputs": [],
   "source": [
    "y_pred_knn = knn.predict(X_train_ct)"
   ]
  },
  {
   "cell_type": "code",
   "execution_count": 31,
   "metadata": {
    "id": "zjw9Iw7Yz2za"
   },
   "outputs": [
    {
     "data": {
      "text/plain": [
       "0.6477142857142857"
      ]
     },
     "execution_count": 31,
     "metadata": {},
     "output_type": "execute_result"
    }
   ],
   "source": [
    "#Calculate accuracy on Training Dataset\n",
    "metrics.accuracy_score(y_train, y_pred_knn)"
   ]
  },
  {
   "cell_type": "code",
   "execution_count": 32,
   "metadata": {
    "id": "6jJ1fLXAwj7q"
   },
   "outputs": [
    {
     "data": {
      "text/plain": [
       "0.6477142857142857"
      ]
     },
     "execution_count": 32,
     "metadata": {},
     "output_type": "execute_result"
    }
   ],
   "source": [
    "#Calculate accuracy on Test Dataset\n",
    "metrics.accuracy_score(y_train, y_pred_knn)"
   ]
  },
  {
   "cell_type": "code",
   "execution_count": 33,
   "metadata": {},
   "outputs": [
    {
     "name": "stdout",
     "output_type": "stream",
     "text": [
      "              precision    recall  f1-score   support\n",
      "\n",
      "           0       0.60      0.87      0.71      5243\n",
      "           1       0.76      0.43      0.55      5257\n",
      "\n",
      "    accuracy                           0.65     10500\n",
      "   macro avg       0.68      0.65      0.63     10500\n",
      "weighted avg       0.68      0.65      0.63     10500\n",
      "\n"
     ]
    }
   ],
   "source": [
    "knn_classification_report = metrics.classification_report(y_train, y_pred_knn)\n",
    "print(knn_classification_report)"
   ]
  },
  {
   "cell_type": "code",
   "execution_count": 34,
   "metadata": {},
   "outputs": [],
   "source": [
    "result_df = pd.DataFrame()\n",
    "result_df = result_df.append(classification_report_csv(knn_classification_report, 'KNN'))"
   ]
  },
  {
   "cell_type": "markdown",
   "metadata": {
    "id": "hyJmh5BuzZhW"
   },
   "source": [
    "We can build Classifier using other algorithms e.g SVM"
   ]
  },
  {
   "cell_type": "code",
   "execution_count": 35,
   "metadata": {
    "id": "G0k6aBRTzY6i"
   },
   "outputs": [],
   "source": [
    "from sklearn.svm import SVC"
   ]
  },
  {
   "cell_type": "code",
   "execution_count": 36,
   "metadata": {
    "id": "DxLV-8oZbHQs"
   },
   "outputs": [
    {
     "data": {
      "text/plain": [
       "SVC()"
      ]
     },
     "execution_count": 36,
     "metadata": {},
     "output_type": "execute_result"
    }
   ],
   "source": [
    "#Train an SVM with default parameters\n",
    "svc = SVC()\n",
    "svc.fit(X_train_ct, y_train)"
   ]
  },
  {
   "cell_type": "code",
   "execution_count": 37,
   "metadata": {},
   "outputs": [],
   "source": [
    "y_pred_svc = svc.predict(X_test_ct)"
   ]
  },
  {
   "cell_type": "code",
   "execution_count": 38,
   "metadata": {
    "id": "1Oq4hVfHbWM0"
   },
   "outputs": [
    {
     "data": {
      "text/plain": [
       "0.654"
      ]
     },
     "execution_count": 38,
     "metadata": {},
     "output_type": "execute_result"
    }
   ],
   "source": [
    "#Calculate accuracy on Test Dataset\n",
    "metrics.accuracy_score(y_test, y_pred_svc)"
   ]
  },
  {
   "cell_type": "code",
   "execution_count": 39,
   "metadata": {},
   "outputs": [
    {
     "name": "stdout",
     "output_type": "stream",
     "text": [
      "              precision    recall  f1-score   support\n",
      "\n",
      "           0       0.62      0.76      0.69      2230\n",
      "           1       0.70      0.55      0.61      2270\n",
      "\n",
      "    accuracy                           0.65      4500\n",
      "   macro avg       0.66      0.65      0.65      4500\n",
      "weighted avg       0.66      0.65      0.65      4500\n",
      "\n"
     ]
    }
   ],
   "source": [
    "#Confusion Metrics to look for f1_score, recall and precision\n",
    "svc_classification_report = metrics.classification_report(y_test, y_pred_svc)\n",
    "print(svc_classification_report)\n",
    "result_df = result_df.append(classification_report_csv(svc_classification_report, 'SVC'))"
   ]
  },
  {
   "cell_type": "markdown",
   "metadata": {
    "id": "Pn-BuPr7wj7u"
   },
   "source": [
    "### 5. Using TF-IDF Vectorizer"
   ]
  },
  {
   "cell_type": "code",
   "execution_count": 40,
   "metadata": {
    "id": "_h06uXvYwj7u"
   },
   "outputs": [],
   "source": [
    "# import and instantiate TF-IDF Vectorizer (with the default parameters)\n",
    "from sklearn.feature_extraction.text import TfidfVectorizer\n",
    "tvect = TfidfVectorizer()"
   ]
  },
  {
   "cell_type": "code",
   "execution_count": 41,
   "metadata": {
    "id": "8bAGvD0Ewj7y"
   },
   "outputs": [
    {
     "data": {
      "text/plain": [
       "14149"
      ]
     },
     "execution_count": 41,
     "metadata": {},
     "output_type": "execute_result"
    }
   ],
   "source": [
    "#Feed Comments data to CountVectorizer\n",
    "tvect.fit(X_train)\n",
    "\n",
    "#Check the vocablury size\n",
    "len(tvect.vocabulary_)"
   ]
  },
  {
   "cell_type": "code",
   "execution_count": 42,
   "metadata": {
    "id": "exeOGALacCb4"
   },
   "outputs": [
    {
     "data": {
      "text/plain": [
       "(10500, 14149)"
      ]
     },
     "execution_count": 42,
     "metadata": {},
     "output_type": "execute_result"
    }
   ],
   "source": [
    "#Convert Training Comments  into numerical values\n",
    "X_train_tfidf = tvect.transform(X_train)\n",
    "\n",
    "X_train_tfidf.shape"
   ]
  },
  {
   "cell_type": "code",
   "execution_count": 43,
   "metadata": {
    "id": "VcJwt_UscVWO"
   },
   "outputs": [
    {
     "name": "stdout",
     "output_type": "stream",
     "text": [
      "  (0, 12646)\t0.32126867848815116\n",
      "  (0, 10888)\t0.6268361066580272\n",
      "  (0, 8577)\t0.30802051101982353\n",
      "  (0, 6640)\t0.2145629762655059\n",
      "  (0, 1504)\t0.602452509015821\n"
     ]
    }
   ],
   "source": [
    "#Check first example\n",
    "print(X_train_tfidf[0])"
   ]
  },
  {
   "cell_type": "code",
   "execution_count": 44,
   "metadata": {
    "id": "0vy_edXec0vP"
   },
   "outputs": [],
   "source": [
    "#Convert Test Comments also to tf-idf vectors\n",
    "X_test_tfidf = tvect.transform(X_test)"
   ]
  },
  {
   "cell_type": "markdown",
   "metadata": {
    "id": "-c77Chsvcg5d"
   },
   "source": [
    "Build an SVM"
   ]
  },
  {
   "cell_type": "code",
   "execution_count": 45,
   "metadata": {
    "id": "eGxYIu00ca-s"
   },
   "outputs": [
    {
     "data": {
      "text/plain": [
       "SVC()"
      ]
     },
     "execution_count": 45,
     "metadata": {},
     "output_type": "execute_result"
    }
   ],
   "source": [
    "svc_tf = SVC()\n",
    "svc_tf.fit(X_train_tfidf, y_train)"
   ]
  },
  {
   "cell_type": "code",
   "execution_count": 46,
   "metadata": {},
   "outputs": [],
   "source": [
    "y_pred_svc_tf = svc_tf.predict(X_test_tfidf)"
   ]
  },
  {
   "cell_type": "code",
   "execution_count": 47,
   "metadata": {
    "id": "AeXoA575cr3A"
   },
   "outputs": [
    {
     "data": {
      "text/plain": [
       "0.6497777777777778"
      ]
     },
     "execution_count": 47,
     "metadata": {},
     "output_type": "execute_result"
    }
   ],
   "source": [
    "#Calculate accuracy on Test Dataset\n",
    "metrics.accuracy_score(y_test, y_pred_svc_tf)"
   ]
  },
  {
   "cell_type": "code",
   "execution_count": 48,
   "metadata": {},
   "outputs": [
    {
     "name": "stdout",
     "output_type": "stream",
     "text": [
      "              precision    recall  f1-score   support\n",
      "\n",
      "           0       0.63      0.73      0.67      2230\n",
      "           1       0.68      0.57      0.62      2270\n",
      "\n",
      "    accuracy                           0.65      4500\n",
      "   macro avg       0.65      0.65      0.65      4500\n",
      "weighted avg       0.65      0.65      0.65      4500\n",
      "\n"
     ]
    }
   ],
   "source": [
    "#Confusion Metrics to look for f1_score, recall and precision\n",
    "svc_tf_classification_report = metrics.classification_report(y_test, y_pred_svc_tf)\n",
    "print(svc_tf_classification_report)\n",
    "result_df = result_df.append(classification_report_csv(svc_tf_classification_report, 'TF-IDF'))"
   ]
  },
  {
   "cell_type": "markdown",
   "metadata": {
    "id": "4o12llmedMEi"
   },
   "source": [
    "### 6. TF-IDF with ngram"
   ]
  },
  {
   "cell_type": "code",
   "execution_count": 49,
   "metadata": {
    "id": "XJnl3-kXdPuT"
   },
   "outputs": [],
   "source": [
    "#Use ngrams of length upto 2 words\n",
    "tvect_ngram = TfidfVectorizer(ngram_range=(1,2)) #Tokens can be made of 1 word or 2 words"
   ]
  },
  {
   "cell_type": "code",
   "execution_count": 50,
   "metadata": {
    "id": "amKZ3BmGdr4x"
   },
   "outputs": [
    {
     "data": {
      "text/plain": [
       "74321"
      ]
     },
     "execution_count": 50,
     "metadata": {},
     "output_type": "execute_result"
    }
   ],
   "source": [
    "#Feed Comments data to CountVectorizer\n",
    "tvect_ngram.fit(X_train)\n",
    "\n",
    "#Check the vocablury size\n",
    "len(tvect_ngram.vocabulary_)"
   ]
  },
  {
   "cell_type": "code",
   "execution_count": 51,
   "metadata": {
    "id": "t0gI6RN-dz3i"
   },
   "outputs": [],
   "source": [
    "# tvect_ngram.vocabulary_"
   ]
  },
  {
   "cell_type": "code",
   "execution_count": 52,
   "metadata": {
    "id": "t3__SHIJeCKI"
   },
   "outputs": [
    {
     "data": {
      "text/plain": [
       "(10500, 74321)"
      ]
     },
     "execution_count": 52,
     "metadata": {},
     "output_type": "execute_result"
    }
   ],
   "source": [
    "#Convert Training Comments  into numerical values\n",
    "X_train_tfidf_ngram = tvect_ngram.transform(X_train)\n",
    "\n",
    "X_train_tfidf_ngram.shape"
   ]
  },
  {
   "cell_type": "code",
   "execution_count": 53,
   "metadata": {
    "id": "h7nxDtrUVN0R"
   },
   "outputs": [
    {
     "data": {
      "text/plain": [
       "SVC()"
      ]
     },
     "execution_count": 53,
     "metadata": {},
     "output_type": "execute_result"
    }
   ],
   "source": [
    "svc_tf = SVC()\n",
    "svc_tf.fit(X_train_tfidf_ngram, y_train)"
   ]
  },
  {
   "cell_type": "code",
   "execution_count": 54,
   "metadata": {},
   "outputs": [],
   "source": [
    "y_pred_svc_ng = svc_tf.predict(tvect_ngram.transform(X_test))"
   ]
  },
  {
   "cell_type": "code",
   "execution_count": 55,
   "metadata": {
    "id": "epvazfQbVYGu"
   },
   "outputs": [
    {
     "data": {
      "text/plain": [
       "0.6564444444444445"
      ]
     },
     "execution_count": 55,
     "metadata": {},
     "output_type": "execute_result"
    }
   ],
   "source": [
    "#Calculate accuracy on Test Dataset\n",
    "metrics.accuracy_score(y_test, y_pred_svc_ng)"
   ]
  },
  {
   "cell_type": "code",
   "execution_count": 56,
   "metadata": {},
   "outputs": [
    {
     "name": "stdout",
     "output_type": "stream",
     "text": [
      "              precision    recall  f1-score   support\n",
      "\n",
      "           0       0.64      0.72      0.67      2230\n",
      "           1       0.68      0.60      0.64      2270\n",
      "\n",
      "    accuracy                           0.66      4500\n",
      "   macro avg       0.66      0.66      0.66      4500\n",
      "weighted avg       0.66      0.66      0.66      4500\n",
      "\n"
     ]
    }
   ],
   "source": [
    "#Confusion Metrics to look for f1_score, recall and precision\n",
    "ngram_classification_report = metrics.classification_report(y_test, y_pred_svc_ng)\n",
    "print(ngram_classification_report)\n",
    "result_df = result_df.append(classification_report_csv(ngram_classification_report, 'N-Gram'))"
   ]
  },
  {
   "cell_type": "markdown",
   "metadata": {
    "id": "rE6sCTxjhPxR"
   },
   "source": [
    "### 7. Building a Deep Learning Model"
   ]
  },
  {
   "cell_type": "code",
   "execution_count": 57,
   "metadata": {
    "id": "pXcQt_TchaNW"
   },
   "outputs": [],
   "source": [
    "import tensorflow as tf"
   ]
  },
  {
   "cell_type": "code",
   "execution_count": 58,
   "metadata": {},
   "outputs": [],
   "source": [
    "# !pip install tensorflow"
   ]
  },
  {
   "cell_type": "markdown",
   "metadata": {
    "id": "MofkwztZheaj"
   },
   "source": [
    "We will use CountVectorizer features in this case. This can be replaced by TF-IDF features"
   ]
  },
  {
   "cell_type": "code",
   "execution_count": 59,
   "metadata": {
    "id": "Qwt45bfbhcur"
   },
   "outputs": [],
   "source": [
    "#Start building a Keras Sequential Model\n",
    "tf.keras.backend.clear_session()\n",
    "model = tf.keras.Sequential()"
   ]
  },
  {
   "cell_type": "code",
   "execution_count": 60,
   "metadata": {
    "id": "jmYjSF9Mh11J"
   },
   "outputs": [],
   "source": [
    "#Add hidden layers\n",
    "model.add(tf.keras.layers.Dense(100, activation='relu', input_shape=(len(tvect.vocabulary_),)))\n",
    "model.add(tf.keras.layers.Dropout(0.4))\n",
    "model.add(tf.keras.layers.Dense(50, activation='relu'))\n",
    "model.add(tf.keras.layers.Dropout(0.4))\n",
    "\n",
    "#Add Output layer\n",
    "model.add(tf.keras.layers.Dense(1, activation='sigmoid'))"
   ]
  },
  {
   "cell_type": "code",
   "execution_count": 61,
   "metadata": {
    "id": "MUPy_5VIiUG9"
   },
   "outputs": [],
   "source": [
    "#Compile the model\n",
    "model.compile(optimizer='adam', loss='binary_crossentropy', metrics=['accuracy'])"
   ]
  },
  {
   "cell_type": "code",
   "execution_count": 62,
   "metadata": {
    "id": "Yg4ZiI2AJ3mV"
   },
   "outputs": [
    {
     "name": "stdout",
     "output_type": "stream",
     "text": [
      "Model: \"sequential\"\n",
      "_________________________________________________________________\n",
      " Layer (type)                Output Shape              Param #   \n",
      "=================================================================\n",
      " dense (Dense)               (None, 100)               1415000   \n",
      "                                                                 \n",
      " dropout (Dropout)           (None, 100)               0         \n",
      "                                                                 \n",
      " dense_1 (Dense)             (None, 50)                5050      \n",
      "                                                                 \n",
      " dropout_1 (Dropout)         (None, 50)                0         \n",
      "                                                                 \n",
      " dense_2 (Dense)             (None, 1)                 51        \n",
      "                                                                 \n",
      "=================================================================\n",
      "Total params: 1,420,101\n",
      "Trainable params: 1,420,101\n",
      "Non-trainable params: 0\n",
      "_________________________________________________________________\n"
     ]
    }
   ],
   "source": [
    "model.summary()"
   ]
  },
  {
   "cell_type": "code",
   "execution_count": 63,
   "metadata": {
    "id": "nigCTrwjXeWM"
   },
   "outputs": [
    {
     "data": {
      "text/plain": [
       "matrix([[0, 0, 0, ..., 0, 0, 0]], dtype=int64)"
      ]
     },
     "execution_count": 63,
     "metadata": {},
     "output_type": "execute_result"
    }
   ],
   "source": [
    "X_train_ct.todense()[0]"
   ]
  },
  {
   "cell_type": "code",
   "execution_count": 64,
   "metadata": {
    "id": "Cn8kdNu3YUek"
   },
   "outputs": [
    {
     "name": "stdout",
     "output_type": "stream",
     "text": [
      "  (0, 1504)\t1\n",
      "  (0, 6640)\t1\n",
      "  (0, 8577)\t1\n",
      "  (0, 10888)\t1\n",
      "  (0, 12646)\t1\n"
     ]
    }
   ],
   "source": [
    "print(X_train_ct[0])"
   ]
  },
  {
   "cell_type": "code",
   "execution_count": 65,
   "metadata": {
    "id": "zH-LnFyXiXqc"
   },
   "outputs": [
    {
     "name": "stdout",
     "output_type": "stream",
     "text": [
      "Epoch 1/10\n",
      "329/329 [==============================] - 17s 44ms/step - loss: 0.6695 - accuracy: 0.5844 - val_loss: 0.6324 - val_accuracy: 0.6464\n",
      "Epoch 2/10\n",
      "329/329 [==============================] - 10s 31ms/step - loss: 0.5318 - accuracy: 0.7419 - val_loss: 0.6517 - val_accuracy: 0.6433\n",
      "Epoch 3/10\n",
      "329/329 [==============================] - 12s 36ms/step - loss: 0.3408 - accuracy: 0.8561 - val_loss: 0.7806 - val_accuracy: 0.6271\n",
      "Epoch 4/10\n",
      "329/329 [==============================] - 10s 30ms/step - loss: 0.1945 - accuracy: 0.9250 - val_loss: 0.9655 - val_accuracy: 0.6322\n",
      "Epoch 5/10\n",
      "329/329 [==============================] - 9s 28ms/step - loss: 0.1130 - accuracy: 0.9592 - val_loss: 1.1437 - val_accuracy: 0.6238\n",
      "Epoch 6/10\n",
      "329/329 [==============================] - 12s 37ms/step - loss: 0.0738 - accuracy: 0.9732 - val_loss: 1.3318 - val_accuracy: 0.6227\n",
      "Epoch 7/10\n",
      "329/329 [==============================] - 12s 37ms/step - loss: 0.0589 - accuracy: 0.9787 - val_loss: 1.3899 - val_accuracy: 0.6184\n",
      "Epoch 8/10\n",
      "329/329 [==============================] - 12s 38ms/step - loss: 0.0436 - accuracy: 0.9851 - val_loss: 1.4933 - val_accuracy: 0.6196\n",
      "Epoch 9/10\n",
      "329/329 [==============================] - 10s 31ms/step - loss: 0.0348 - accuracy: 0.9899 - val_loss: 1.6069 - val_accuracy: 0.6220\n",
      "Epoch 10/10\n",
      "329/329 [==============================] - 9s 28ms/step - loss: 0.0277 - accuracy: 0.9911 - val_loss: 1.8007 - val_accuracy: 0.6244\n"
     ]
    },
    {
     "data": {
      "text/plain": [
       "<keras.callbacks.History at 0x24a9526f5e0>"
      ]
     },
     "execution_count": 65,
     "metadata": {},
     "output_type": "execute_result"
    }
   ],
   "source": [
    "model.fit(X_train_ct.todense(), y_train,\n",
    "           validation_data=(X_test_ct.todense(), y_test), \n",
    "           epochs=10, batch_size=32)"
   ]
  },
  {
   "cell_type": "markdown",
   "metadata": {
    "id": "0fAMugIPwj-9"
   },
   "source": [
    "### 8. Controlling Vocabulary size\n",
    "\n",
    "Thus far, we have been using the default parameters of [CountVectorizer](http://scikit-learn.org/stable/modules/generated/sklearn.feature_extraction.text.CountVectorizer.html):"
   ]
  },
  {
   "cell_type": "code",
   "execution_count": 66,
   "metadata": {
    "id": "9CbGtaqRwj--"
   },
   "outputs": [
    {
     "data": {
      "text/plain": [
       "CountVectorizer()"
      ]
     },
     "execution_count": 66,
     "metadata": {},
     "output_type": "execute_result"
    }
   ],
   "source": [
    "# show default parameters for CountVectorizer (TFIDF will have similar parameters)\n",
    "cvect"
   ]
  },
  {
   "cell_type": "markdown",
   "metadata": {
    "id": "AWehIREdwj-_"
   },
   "source": [
    "However, the vectorizer is worth tuning, just like a model is worth tuning! Here are a few parameters that you might want to tune:\n",
    "\n",
    "- **stop_words:** string {'english'}, list, or None (default)\n",
    "    - If 'english', a built-in stop word list for English is used.\n",
    "    - If a list, that list is assumed to contain stop words, all of which will be removed from the resulting tokens.\n",
    "    - If None, no stop words will be used."
   ]
  },
  {
   "cell_type": "code",
   "execution_count": 67,
   "metadata": {
    "id": "DkCZFIKFwj_A"
   },
   "outputs": [
    {
     "data": {
      "text/plain": [
       "13874"
      ]
     },
     "execution_count": 67,
     "metadata": {},
     "output_type": "execute_result"
    }
   ],
   "source": [
    "# remove English stop words\n",
    "vect = CountVectorizer(stop_words='english')\n",
    "vect.fit(X_train)\n",
    "len(vect.get_feature_names_out())"
   ]
  },
  {
   "cell_type": "markdown",
   "metadata": {
    "id": "ZAhoUBLRwj_A"
   },
   "source": [
    "- **ngram_range:** tuple (min_n, max_n), default=(1, 1)\n",
    "    - The lower and upper boundary of the range of n-values for different n-grams to be extracted.\n",
    "    - All values of n such that min_n <= n <= max_n will be used."
   ]
  },
  {
   "cell_type": "code",
   "execution_count": 68,
   "metadata": {
    "id": "zvexuCwFwj_B"
   },
   "outputs": [
    {
     "name": "stderr",
     "output_type": "stream",
     "text": [
      "C:\\Users\\Admin\\anaconda3\\lib\\site-packages\\sklearn\\utils\\deprecation.py:87: FutureWarning: Function get_feature_names is deprecated; get_feature_names is deprecated in 1.0 and will be removed in 1.2. Please use get_feature_names_out instead.\n",
      "  warnings.warn(msg, category=FutureWarning)\n"
     ]
    },
    {
     "data": {
      "text/plain": [
       "152930"
      ]
     },
     "execution_count": 68,
     "metadata": {},
     "output_type": "execute_result"
    }
   ],
   "source": [
    "# include 1-grams, 2-grams and 3-grams\n",
    "vect = CountVectorizer(ngram_range=(1, 3))\n",
    "vect.fit(X_train)\n",
    "len(vect.get_feature_names())"
   ]
  },
  {
   "cell_type": "markdown",
   "metadata": {
    "id": "xzM7sYXHwj_D"
   },
   "source": [
    "- **max_df:** float in range [0.0, 1.0] or int, default=1.0\n",
    "    - When building the vocabulary, ignore terms that have a document frequency strictly higher than the given threshold (corpus-specific stop words).\n",
    "    - If float, the parameter represents a proportion of documents.\n",
    "    - If integer, the parameter represents an absolute count."
   ]
  },
  {
   "cell_type": "code",
   "execution_count": 69,
   "metadata": {
    "id": "5QB_5WAnwj_D"
   },
   "outputs": [
    {
     "data": {
      "text/plain": [
       "14149"
      ]
     },
     "execution_count": 69,
     "metadata": {},
     "output_type": "execute_result"
    }
   ],
   "source": [
    "# ignore terms that appear in more than 50% of the documents\n",
    "vect = CountVectorizer(max_df=0.5)\n",
    "vect.fit(X_train)\n",
    "len(vect.get_feature_names_out())"
   ]
  },
  {
   "cell_type": "markdown",
   "metadata": {
    "id": "0lPcHFE1s8Aa"
   },
   "source": [
    "- **min_df:** int, default=1\n",
    "\n",
    "\n",
    "> Defines, at a minimum, how many documents a word should appear before it is included in Vocablury\n"
   ]
  },
  {
   "cell_type": "code",
   "execution_count": 70,
   "metadata": {
    "id": "vHC-oizLwj_F"
   },
   "outputs": [
    {
     "data": {
      "text/plain": [
       "5769"
      ]
     },
     "execution_count": 70,
     "metadata": {},
     "output_type": "execute_result"
    }
   ],
   "source": [
    "# only keep terms that appear in at least 2 documents\n",
    "vect = CountVectorizer(min_df=2)\n",
    "vect.fit(X_train)\n",
    "len(vect.get_feature_names_out())"
   ]
  },
  {
   "cell_type": "code",
   "execution_count": 71,
   "metadata": {
    "id": "4FsdJ9FBEIlY"
   },
   "outputs": [],
   "source": [
    "# vect.get_feature_names()"
   ]
  },
  {
   "cell_type": "markdown",
   "metadata": {
    "id": "bsmJkEbptdto"
   },
   "source": [
    "- **max_features**: int or None, default=None\n",
    "\n",
    "\n",
    "> Maximum size of vocabulary. None means no hard limit.\n",
    "\n",
    "\n"
   ]
  },
  {
   "cell_type": "code",
   "execution_count": 72,
   "metadata": {
    "id": "AV31mVnws27q"
   },
   "outputs": [
    {
     "data": {
      "text/plain": [
       "2000"
      ]
     },
     "execution_count": 72,
     "metadata": {},
     "output_type": "execute_result"
    }
   ],
   "source": [
    "# only keep terms that appear in at least 2 documents, but maximum vocablury is restricted to 2000 words\n",
    "vect = CountVectorizer(min_df=2, max_features=2000)\n",
    "vect.fit(X_train)\n",
    "len(vect.get_feature_names_out())"
   ]
  },
  {
   "cell_type": "markdown",
   "metadata": {
    "id": "9RREbq_xwj_G"
   },
   "source": [
    "**Guidelines for tuning Vectorizer:**\n",
    "\n",
    "- Use your knowledge of the **problem** and the **text**\n",
    "- **Experiment**, and let the data tell you the best approach!\n",
    "- Quiet often, number of features are limited by amount of RAM/Compute available."
   ]
  },
  {
   "cell_type": "markdown",
   "metadata": {
    "id": "YIHaWAagwj_H"
   },
   "source": [
    "### Word Cloud"
   ]
  },
  {
   "cell_type": "code",
   "execution_count": 74,
   "metadata": {
    "id": "SAK6X0-jwj_H"
   },
   "outputs": [],
   "source": [
    "import matplotlib.pyplot as plt # visualization\n",
    "from wordcloud import WordCloud"
   ]
  },
  {
   "cell_type": "code",
   "execution_count": null,
   "metadata": {},
   "outputs": [],
   "source": [
    "# !pip install wordcloud"
   ]
  },
  {
   "cell_type": "code",
   "execution_count": 75,
   "metadata": {
    "id": "X5ix7Va-wj_M"
   },
   "outputs": [
    {
     "data": {
      "image/png": "[encoded data removed]",
      "text/plain": [
       "<Figure size 1440x720 with 1 Axes>"
      ]
     },
     "metadata": {},
     "output_type": "display_data"
    }
   ],
   "source": [
    "# Define wordcloud function from wordcloud library.\n",
    "wc = WordCloud()\n",
    "wc.generate(str(st_df['comment']))\n",
    "# declare our figure \n",
    "plt.figure(figsize=(20,10), facecolor='k')\n",
    "# add title to the graph\n",
    "plt.title(\"Most frequent words in Comments dataset\", fontsize=40, color='white')\n",
    "plt.imshow(wc)\n",
    "plt.show()"
   ]
  },
  {
   "cell_type": "code",
   "execution_count": 76,
   "metadata": {},
   "outputs": [
    {
     "data": {
      "text/html": [
       "<div>\n",
       "<style scoped>\n",
       "    .dataframe tbody tr th:only-of-type {\n",
       "        vertical-align: middle;\n",
       "    }\n",
       "\n",
       "    .dataframe tbody tr th {\n",
       "        vertical-align: top;\n",
       "    }\n",
       "\n",
       "    .dataframe thead th {\n",
       "        text-align: right;\n",
       "    }\n",
       "</style>\n",
       "<table border=\"1\" class=\"dataframe\">\n",
       "  <thead>\n",
       "    <tr style=\"text-align: right;\">\n",
       "      <th></th>\n",
       "      <th>Model</th>\n",
       "      <th>accuracy</th>\n",
       "      <th>class</th>\n",
       "      <th>precision</th>\n",
       "      <th>recall</th>\n",
       "      <th>f1_score</th>\n",
       "      <th>support</th>\n",
       "    </tr>\n",
       "  </thead>\n",
       "  <tbody>\n",
       "    <tr>\n",
       "      <th>0</th>\n",
       "      <td>KNN</td>\n",
       "      <td>0.65</td>\n",
       "      <td></td>\n",
       "      <td></td>\n",
       "      <td></td>\n",
       "      <td></td>\n",
       "      <td></td>\n",
       "    </tr>\n",
       "    <tr>\n",
       "      <th>1</th>\n",
       "      <td></td>\n",
       "      <td></td>\n",
       "      <td>0</td>\n",
       "      <td>0.60</td>\n",
       "      <td>0.87</td>\n",
       "      <td>0.71</td>\n",
       "      <td>5243</td>\n",
       "    </tr>\n",
       "    <tr>\n",
       "      <th>2</th>\n",
       "      <td></td>\n",
       "      <td></td>\n",
       "      <td>1</td>\n",
       "      <td>0.76</td>\n",
       "      <td>0.43</td>\n",
       "      <td>0.55</td>\n",
       "      <td>5257</td>\n",
       "    </tr>\n",
       "    <tr>\n",
       "      <th>3</th>\n",
       "      <td></td>\n",
       "      <td></td>\n",
       "      <td>macro avg</td>\n",
       "      <td>0.68</td>\n",
       "      <td>0.65</td>\n",
       "      <td>0.63</td>\n",
       "      <td>10500</td>\n",
       "    </tr>\n",
       "    <tr>\n",
       "      <th>4</th>\n",
       "      <td></td>\n",
       "      <td></td>\n",
       "      <td>weighted avg</td>\n",
       "      <td>0.68</td>\n",
       "      <td>0.65</td>\n",
       "      <td>0.63</td>\n",
       "      <td>10500</td>\n",
       "    </tr>\n",
       "    <tr>\n",
       "      <th>0</th>\n",
       "      <td>SVC</td>\n",
       "      <td>0.65</td>\n",
       "      <td></td>\n",
       "      <td></td>\n",
       "      <td></td>\n",
       "      <td></td>\n",
       "      <td></td>\n",
       "    </tr>\n",
       "    <tr>\n",
       "      <th>1</th>\n",
       "      <td></td>\n",
       "      <td></td>\n",
       "      <td>0</td>\n",
       "      <td>0.62</td>\n",
       "      <td>0.76</td>\n",
       "      <td>0.69</td>\n",
       "      <td>2230</td>\n",
       "    </tr>\n",
       "    <tr>\n",
       "      <th>2</th>\n",
       "      <td></td>\n",
       "      <td></td>\n",
       "      <td>1</td>\n",
       "      <td>0.70</td>\n",
       "      <td>0.55</td>\n",
       "      <td>0.61</td>\n",
       "      <td>2270</td>\n",
       "    </tr>\n",
       "    <tr>\n",
       "      <th>3</th>\n",
       "      <td></td>\n",
       "      <td></td>\n",
       "      <td>macro avg</td>\n",
       "      <td>0.66</td>\n",
       "      <td>0.65</td>\n",
       "      <td>0.65</td>\n",
       "      <td>4500</td>\n",
       "    </tr>\n",
       "    <tr>\n",
       "      <th>4</th>\n",
       "      <td></td>\n",
       "      <td></td>\n",
       "      <td>weighted avg</td>\n",
       "      <td>0.66</td>\n",
       "      <td>0.65</td>\n",
       "      <td>0.65</td>\n",
       "      <td>4500</td>\n",
       "    </tr>\n",
       "    <tr>\n",
       "      <th>0</th>\n",
       "      <td>TF-IDF</td>\n",
       "      <td>0.65</td>\n",
       "      <td></td>\n",
       "      <td></td>\n",
       "      <td></td>\n",
       "      <td></td>\n",
       "      <td></td>\n",
       "    </tr>\n",
       "    <tr>\n",
       "      <th>1</th>\n",
       "      <td></td>\n",
       "      <td></td>\n",
       "      <td>0</td>\n",
       "      <td>0.63</td>\n",
       "      <td>0.73</td>\n",
       "      <td>0.67</td>\n",
       "      <td>2230</td>\n",
       "    </tr>\n",
       "    <tr>\n",
       "      <th>2</th>\n",
       "      <td></td>\n",
       "      <td></td>\n",
       "      <td>1</td>\n",
       "      <td>0.68</td>\n",
       "      <td>0.57</td>\n",
       "      <td>0.62</td>\n",
       "      <td>2270</td>\n",
       "    </tr>\n",
       "    <tr>\n",
       "      <th>3</th>\n",
       "      <td></td>\n",
       "      <td></td>\n",
       "      <td>macro avg</td>\n",
       "      <td>0.65</td>\n",
       "      <td>0.65</td>\n",
       "      <td>0.65</td>\n",
       "      <td>4500</td>\n",
       "    </tr>\n",
       "    <tr>\n",
       "      <th>4</th>\n",
       "      <td></td>\n",
       "      <td></td>\n",
       "      <td>weighted avg</td>\n",
       "      <td>0.65</td>\n",
       "      <td>0.65</td>\n",
       "      <td>0.65</td>\n",
       "      <td>4500</td>\n",
       "    </tr>\n",
       "    <tr>\n",
       "      <th>0</th>\n",
       "      <td>N-Gram</td>\n",
       "      <td>0.66</td>\n",
       "      <td></td>\n",
       "      <td></td>\n",
       "      <td></td>\n",
       "      <td></td>\n",
       "      <td></td>\n",
       "    </tr>\n",
       "    <tr>\n",
       "      <th>1</th>\n",
       "      <td></td>\n",
       "      <td></td>\n",
       "      <td>0</td>\n",
       "      <td>0.64</td>\n",
       "      <td>0.72</td>\n",
       "      <td>0.67</td>\n",
       "      <td>2230</td>\n",
       "    </tr>\n",
       "    <tr>\n",
       "      <th>2</th>\n",
       "      <td></td>\n",
       "      <td></td>\n",
       "      <td>1</td>\n",
       "      <td>0.68</td>\n",
       "      <td>0.60</td>\n",
       "      <td>0.64</td>\n",
       "      <td>2270</td>\n",
       "    </tr>\n",
       "    <tr>\n",
       "      <th>3</th>\n",
       "      <td></td>\n",
       "      <td></td>\n",
       "      <td>macro avg</td>\n",
       "      <td>0.66</td>\n",
       "      <td>0.66</td>\n",
       "      <td>0.66</td>\n",
       "      <td>4500</td>\n",
       "    </tr>\n",
       "    <tr>\n",
       "      <th>4</th>\n",
       "      <td></td>\n",
       "      <td></td>\n",
       "      <td>weighted avg</td>\n",
       "      <td>0.66</td>\n",
       "      <td>0.66</td>\n",
       "      <td>0.66</td>\n",
       "      <td>4500</td>\n",
       "    </tr>\n",
       "  </tbody>\n",
       "</table>\n",
       "</div>"
      ],
      "text/plain": [
       "    Model accuracy         class precision recall f1_score support\n",
       "0     KNN     0.65                                                \n",
       "1                              0      0.60   0.87     0.71    5243\n",
       "2                              1      0.76   0.43     0.55    5257\n",
       "3                      macro avg      0.68   0.65     0.63   10500\n",
       "4                   weighted avg      0.68   0.65     0.63   10500\n",
       "0     SVC     0.65                                                \n",
       "1                              0      0.62   0.76     0.69    2230\n",
       "2                              1      0.70   0.55     0.61    2270\n",
       "3                      macro avg      0.66   0.65     0.65    4500\n",
       "4                   weighted avg      0.66   0.65     0.65    4500\n",
       "0  TF-IDF     0.65                                                \n",
       "1                              0      0.63   0.73     0.67    2230\n",
       "2                              1      0.68   0.57     0.62    2270\n",
       "3                      macro avg      0.65   0.65     0.65    4500\n",
       "4                   weighted avg      0.65   0.65     0.65    4500\n",
       "0  N-Gram     0.66                                                \n",
       "1                              0      0.64   0.72     0.67    2230\n",
       "2                              1      0.68   0.60     0.64    2270\n",
       "3                      macro avg      0.66   0.66     0.66    4500\n",
       "4                   weighted avg      0.66   0.66     0.66    4500"
      ]
     },
     "execution_count": 76,
     "metadata": {},
     "output_type": "execute_result"
    }
   ],
   "source": [
    "result_df"
   ]
  }
 ],
 "metadata": {
  "colab": {
   "collapsed_sections": [
    "rKqe-5Lpwj7E",
    "c2h-db6Zw00i",
    "pERZB-yYcMnQ",
    "8_WO6pSdvE3o",
    "Pn-BuPr7wj7u",
    "4o12llmedMEi",
    "0fAMugIPwj-9",
    "YIHaWAagwj_H"
   ],
   "name": "1a. Text Classification - SMS.ipynb",
   "private_outputs": true,
   "provenance": []
  },
  "kernelspec": {
   "display_name": "Python 3",
   "language": "python",
   "name": "python3"
  },
  "language_info": {
   "codemirror_mode": {
    "name": "ipython",
    "version": 3
   },
   "file_extension": ".py",
   "mimetype": "text/x-python",
   "name": "python",
   "nbconvert_exporter": "python",
   "pygments_lexer": "ipython3",
   "version": "3.8.8"
  }
 },
 "nbformat": 4,
 "nbformat_minor": 4
}
